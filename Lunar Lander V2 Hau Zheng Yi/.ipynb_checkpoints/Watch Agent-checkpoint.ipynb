{
 "cells": [
  {
   "cell_type": "code",
   "execution_count": 1,
   "metadata": {},
   "outputs": [],
   "source": [
    "import torch\n",
    "from itertools import count\n",
    "from dqn import DQN\n",
    "from environment import LunarLanderEnvManager"
   ]
  },
  {
   "cell_type": "code",
   "execution_count": null,
   "metadata": {},
   "outputs": [],
   "source": [
    "device = torch.device(\"cuda\")\n",
    "em = LunarLanderEnvManager(device)\n",
    "policy_net = DQN(em.num_states_available()).to(device)\n",
    "policy_net.load_state_dict(torch.load('models/model_280_1.pth'))\n",
    "policy_net.eval()\n",
    "\n",
    "for i in count():\n",
    "    em.reset()\n",
    "    state = em.get_state()\n",
    "    rewards = 0\n",
    "    for j in range(2000):\n",
    "        action = policy_net(state).argmax(dim=1).to(device)\n",
    "        rewards += em.take_action(action)\n",
    "        state = em.get_state()\n",
    "        em.render()\n",
    "        if em.if_done():\n",
    "            break \n",
    "            \n",
    "em.close()"
   ]
  },
  {
   "cell_type": "code",
   "execution_count": null,
   "metadata": {},
   "outputs": [],
   "source": []
  }
 ],
 "metadata": {
  "kernelspec": {
   "display_name": "Python 3",
   "language": "python",
   "name": "python3"
  },
  "language_info": {
   "codemirror_mode": {
    "name": "ipython",
    "version": 3
   },
   "file_extension": ".py",
   "mimetype": "text/x-python",
   "name": "python",
   "nbconvert_exporter": "python",
   "pygments_lexer": "ipython3",
   "version": "3.9.0"
  }
 },
 "nbformat": 4,
 "nbformat_minor": 4
}
